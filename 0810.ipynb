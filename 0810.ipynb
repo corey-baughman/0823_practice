{
 "cells": [
  {
   "cell_type": "markdown",
   "id": "ff5a9870-8783-4910-b649-548cc01bbcff",
   "metadata": {},
   "source": [
    "## Practice 0810\n",
    "- Machine Learning with Python Cookbook, Ch. 4 Handling Numerical Data"
   ]
  },
  {
   "cell_type": "markdown",
   "id": "5b79c691-2cf3-40e9-aff7-e307c14b80f5",
   "metadata": {},
   "source": [
    "##### 4.1 Rescaling a Feature"
   ]
  },
  {
   "cell_type": "code",
   "execution_count": 3,
   "id": "8e1ee98e-ab32-47e5-9482-975bfa8acbec",
   "metadata": {},
   "outputs": [],
   "source": [
    "# What if I need to rescale values to be between two values?\n",
    "# Use scikit-learn's MinMaxScaler to rescale a feature array\n",
    "\n",
    "# imports\n",
    "import numpy as np\n",
    "from sklearn import preprocessing"
   ]
  },
  {
   "cell_type": "code",
   "execution_count": 4,
   "id": "780719f8-df78-4406-9973-2ce01fd3bce8",
   "metadata": {},
   "outputs": [
    {
     "data": {
      "text/plain": [
       "array([[0.        ],\n",
       "       [0.28571429],\n",
       "       [0.35714286],\n",
       "       [0.42857143],\n",
       "       [1.        ]])"
      ]
     },
     "execution_count": 4,
     "metadata": {},
     "output_type": "execute_result"
    }
   ],
   "source": [
    "# create feature\n",
    "feature = np.array([[-500.5],\n",
    "                   [-100.1],\n",
    "                   [0],\n",
    "                   [100.1],\n",
    "                   [900.9]])\n",
    "\n",
    "# create scaler\n",
    "minmax_scale = preprocessing.MinMaxScaler(feature_range=(0,1))\n",
    "\n",
    "# scale the feature\n",
    "scaled_feature = minmax_scale.fit_transform(feature)\n",
    "\n",
    "# show the feature\n",
    "scaled_feature\n",
    "\n"
   ]
  },
  {
   "cell_type": "markdown",
   "id": "d6a72d3f-21fd-4216-8cff-e2541107afca",
   "metadata": {},
   "source": [
    "#### 4.2 Standardizing a Feature"
   ]
  },
  {
   "cell_type": "code",
   "execution_count": 7,
   "id": "c84f23f3-a1bb-4eae-b0e5-44acec4943b0",
   "metadata": {},
   "outputs": [],
   "source": [
    "# Create feature\n",
    "x = np.array([[-1000.1],\n",
    "              [-200.2],\n",
    "              [500.5],\n",
    "              [600.6],\n",
    "              [9000.9]])\n",
    "\n",
    "# standardizing is scaling a feature to a normal distribution with a mean of zero and\n",
    "# a standard deviation of one\n",
    "\n",
    "scaler = preprocessing.StandardScaler()"
   ]
  },
  {
   "cell_type": "code",
   "execution_count": 8,
   "id": "39b1ca30-47ab-437a-a1aa-4260f9f8bbfd",
   "metadata": {},
   "outputs": [
    {
     "data": {
      "text/plain": [
       "array([[-0.76058269],\n",
       "       [-0.54177196],\n",
       "       [-0.35009716],\n",
       "       [-0.32271504],\n",
       "       [ 1.97516685]])"
      ]
     },
     "execution_count": 8,
     "metadata": {},
     "output_type": "execute_result"
    }
   ],
   "source": [
    "standardized = scaler.fit_transform(x)\n",
    "standardized"
   ]
  },
  {
   "cell_type": "code",
   "execution_count": null,
   "id": "743d96da-d055-4556-b651-666af3ca53e1",
   "metadata": {},
   "outputs": [],
   "source": []
  }
 ],
 "metadata": {
  "kernelspec": {
   "display_name": "Python 3 (ipykernel)",
   "language": "python",
   "name": "python3"
  },
  "language_info": {
   "codemirror_mode": {
    "name": "ipython",
    "version": 3
   },
   "file_extension": ".py",
   "mimetype": "text/x-python",
   "name": "python",
   "nbconvert_exporter": "python",
   "pygments_lexer": "ipython3",
   "version": "3.9.13"
  }
 },
 "nbformat": 4,
 "nbformat_minor": 5
}
